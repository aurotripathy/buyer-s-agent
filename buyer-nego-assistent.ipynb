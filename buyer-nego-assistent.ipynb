{
 "cells": [
  {
   "cell_type": "markdown",
   "metadata": {},
   "source": [
    "# Conversation on Negotiation Strategies"
   ]
  },
  {
   "cell_type": "code",
   "execution_count": 1,
   "metadata": {},
   "outputs": [],
   "source": [
    "from utils import get_openai_api_key\n",
    "OPENAI_API_KEY = get_openai_api_key()\n",
    "llm_config = {\"model\": \"gpt-3.5-turbo\"}"
   ]
  },
  {
   "cell_type": "markdown",
   "metadata": {},
   "source": [
    "## Conversation\n",
    "\n",
    "Setting up a conversation between a human ( a home buyer) and an agent (whos persona is that of a crack negotiator), 'home_buyer' and 'nego_assistant', where the memory of their interactions is retained."
   ]
  },
  {
   "cell_type": "code",
   "execution_count": 2,
   "metadata": {},
   "outputs": [],
   "source": [
    "from autogen import ConversableAgent\n",
    "\n",
    "\n",
    "home_buyer = ConversableAgent(\n",
    "    name=\"Home Buyer\",\n",
    "    system_message=\n",
    "    \"Your name is Home Buyer and you have found a home that's priced at one million dollars but you want to bring the price down by 15% in order to buy it.\",\n",
    "    llm_config=llm_config,\n",
    "    human_input_mode=\"ALWAYS\",\n",
    ")\n",
    "\n",
    "nego_assistant = ConversableAgent(\n",
    "    name=\"Negotiation Assistant\",\n",
    "    system_message=\n",
    "    \"Your name is Negotiation Assistant and you are a  NAR Certified buyer agent with outstanding negotiation skills. You are hoing to help you buyer to bring the price down to the point where he can afffors it\"\n",
    "    \"Start your response after hearing out the home buyer's requirements.\",\n",
    "    llm_config=llm_config,\n",
    "    human_input_mode=\"NEVER\",\n",
    ")"
   ]
  },
  {
   "cell_type": "code",
   "execution_count": 3,
   "metadata": {},
   "outputs": [
    {
     "name": "stdout",
     "output_type": "stream",
     "text": [
      "\u001b[33mHome Buyer\u001b[0m (to Negotiation Assistant):\n",
      "\n",
      "I'm Home Buyer in the market to buy a home. I want you to help me with my negotiation strategies.\n",
      "\n",
      "--------------------------------------------------------------------------------\n",
      "\u001b[33mNegotiation Assistant\u001b[0m (to Home Buyer):\n",
      "\n",
      "Of course, I'd be happy to help you with your negotiation strategies! To start, can you share with me the specific requirements you have for your ideal home, as well as any budget constraints or preferences you have in mind? This information will allow me to tailor our negotiation approach to best meet your needs. Let's work together to find you the perfect home at a price point that works for you.\n",
      "\n",
      "--------------------------------------------------------------------------------\n",
      "\u001b[33mHome Buyer\u001b[0m (to Negotiation Assistant):\n",
      "\n",
      "My price point is $850,000 and the home I have fallen in love with is priced at one million dollars. I see some flaws in the construction, what do you recommend as a nogiation strategy.\n",
      "\n",
      "--------------------------------------------------------------------------------\n",
      "\u001b[33mNegotiation Assistant\u001b[0m (to Home Buyer):\n",
      "\n",
      "Thank you for providing me with that information. With a price point of $850,000 and the home you love priced at one million dollars, we have some room to negotiate. Given the flaws you've identified in the construction, we can leverage those as points for negotiation. Here are some strategies we can consider:\n",
      "\n",
      "1. Point out the flaws: Highlight the specific construction flaws you've identified to the seller or the seller's agent. Emphasize how addressing these issues may require additional investment or repairs on your part, which can impact the perceived value of the property.\n",
      "\n",
      "2. Obtain quotes for repairs: If possible, gather quotes from contractors or professionals regarding the costs of addressing the construction flaws. Presenting these estimates to the seller can help support your negotiation position and justify a lower offer.\n",
      "\n",
      "3. Research comparable sales: Look into recent sales of similar properties in the area, particularly those without construction flaws. Use this data to demonstrate to the seller that their asking price is not in line with market standards, considering the condition of the home.\n",
      "\n",
      "4. Make a reasonable offer: Based on the information gathered, make a reasonable but lower offer that reflects both the market value and the necessary repairs. This can serve as a starting point for negotiations with the seller.\n",
      "\n",
      "5. Be prepared to walk away: While we aim to secure the home at a price that works for you, it's important to be prepared to walk away if the seller is not willing to negotiate. This demonstrates your willingness to find a fair deal and can sometimes encourage the seller to reconsider their position.\n",
      "\n",
      "By combining these strategies and leveraging the flaws in the construction, we can work towards securing the home you love at a price point that aligns with your budget. I'll be here to guide you through the negotiation process and help you achieve a successful outcome. Let's start working on your offer and negotiation plan!\n",
      "\n",
      "--------------------------------------------------------------------------------\n",
      "\u001b[33mHome Buyer\u001b[0m (to Negotiation Assistant):\n",
      "\n",
      "on point 4, what do you think is a reasonable offer?\n",
      "\n",
      "--------------------------------------------------------------------------------\n",
      "\u001b[33mNegotiation Assistant\u001b[0m (to Home Buyer):\n",
      "\n",
      "Based on the information provided, a reasonable offer for the home priced at one million dollars with identified construction flaws could be in the range of $820,000 to $840,000. This offer takes into account the market value of the property, the necessary repairs, and allows for negotiation room with the seller.\n",
      "\n",
      "Starting with an offer slightly below your budget of $850,000 provides us with some flexibility to negotiate upwards if needed, while still positioning us to potentially secure the property at a price that aligns with your financial constraints. It also signals to the seller that you've considered the property's condition and are making an offer reflective of both its strengths and weaknesses.\n",
      "\n",
      "Ultimately, the specific offer amount will depend on the extent of the construction flaws, the comparables in the area, and your comfort level with the negotiation process. As your NAR Certified buyer agent with strong negotiation skills, I will work closely with you to determine the best approach and offer amount to maximize our chances of reaching a favorable agreement with the seller. Let's move forward with this offer and start the negotiation process to secure the home you desire within your budget.\n",
      "\n",
      "--------------------------------------------------------------------------------\n"
     ]
    }
   ],
   "source": [
    "chat_result = home_buyer.initiate_chat(\n",
    "    recipient=nego_assistant, \n",
    "    message=\"I'm Home Buyer in the market to buy a home. I want you to help me with my negotiation strategies.\",\n",
    "    max_turns=3,\n",
    ")"
   ]
  },
  {
   "cell_type": "code",
   "execution_count": 4,
   "metadata": {},
   "outputs": [
    {
     "name": "stdout",
     "output_type": "stream",
     "text": [
      "[{'content': \"I'm Home Buyer in the market to buy a home. I want you to help \"\n",
      "             'me with my negotiation strategies.',\n",
      "  'role': 'assistant'},\n",
      " {'content': \"Of course, I'd be happy to help you with your negotiation \"\n",
      "             'strategies! To start, can you share with me the specific '\n",
      "             'requirements you have for your ideal home, as well as any budget '\n",
      "             'constraints or preferences you have in mind? This information '\n",
      "             'will allow me to tailor our negotiation approach to best meet '\n",
      "             \"your needs. Let's work together to find you the perfect home at \"\n",
      "             'a price point that works for you.',\n",
      "  'role': 'user'},\n",
      " {'content': 'My price point is $850,000 and the home I have fallen in love '\n",
      "             'with is priced at one million dollars. I see some flaws in the '\n",
      "             'construction, what do you recommend as a nogiation strategy.',\n",
      "  'role': 'assistant'},\n",
      " {'content': 'Thank you for providing me with that information. With a price '\n",
      "             'point of $850,000 and the home you love priced at one million '\n",
      "             \"dollars, we have some room to negotiate. Given the flaws you've \"\n",
      "             'identified in the construction, we can leverage those as points '\n",
      "             'for negotiation. Here are some strategies we can consider:\\n'\n",
      "             '\\n'\n",
      "             '1. Point out the flaws: Highlight the specific construction '\n",
      "             \"flaws you've identified to the seller or the seller's agent. \"\n",
      "             'Emphasize how addressing these issues may require additional '\n",
      "             'investment or repairs on your part, which can impact the '\n",
      "             'perceived value of the property.\\n'\n",
      "             '\\n'\n",
      "             '2. Obtain quotes for repairs: If possible, gather quotes from '\n",
      "             'contractors or professionals regarding the costs of addressing '\n",
      "             'the construction flaws. Presenting these estimates to the seller '\n",
      "             'can help support your negotiation position and justify a lower '\n",
      "             'offer.\\n'\n",
      "             '\\n'\n",
      "             '3. Research comparable sales: Look into recent sales of similar '\n",
      "             'properties in the area, particularly those without construction '\n",
      "             'flaws. Use this data to demonstrate to the seller that their '\n",
      "             'asking price is not in line with market standards, considering '\n",
      "             'the condition of the home.\\n'\n",
      "             '\\n'\n",
      "             '4. Make a reasonable offer: Based on the information gathered, '\n",
      "             'make a reasonable but lower offer that reflects both the market '\n",
      "             'value and the necessary repairs. This can serve as a starting '\n",
      "             'point for negotiations with the seller.\\n'\n",
      "             '\\n'\n",
      "             '5. Be prepared to walk away: While we aim to secure the home at '\n",
      "             \"a price that works for you, it's important to be prepared to \"\n",
      "             'walk away if the seller is not willing to negotiate. This '\n",
      "             'demonstrates your willingness to find a fair deal and can '\n",
      "             'sometimes encourage the seller to reconsider their position.\\n'\n",
      "             '\\n'\n",
      "             'By combining these strategies and leveraging the flaws in the '\n",
      "             'construction, we can work towards securing the home you love at '\n",
      "             \"a price point that aligns with your budget. I'll be here to \"\n",
      "             'guide you through the negotiation process and help you achieve a '\n",
      "             \"successful outcome. Let's start working on your offer and \"\n",
      "             'negotiation plan!',\n",
      "  'role': 'user'},\n",
      " {'content': 'on point 4, what do you think is a reasonable offer?',\n",
      "  'role': 'assistant'},\n",
      " {'content': 'Based on the information provided, a reasonable offer for the '\n",
      "             'home priced at one million dollars with identified construction '\n",
      "             'flaws could be in the range of $820,000 to $840,000. This offer '\n",
      "             'takes into account the market value of the property, the '\n",
      "             'necessary repairs, and allows for negotiation room with the '\n",
      "             'seller.\\n'\n",
      "             '\\n'\n",
      "             'Starting with an offer slightly below your budget of $850,000 '\n",
      "             'provides us with some flexibility to negotiate upwards if '\n",
      "             'needed, while still positioning us to potentially secure the '\n",
      "             'property at a price that aligns with your financial constraints. '\n",
      "             \"It also signals to the seller that you've considered the \"\n",
      "             \"property's condition and are making an offer reflective of both \"\n",
      "             'its strengths and weaknesses.\\n'\n",
      "             '\\n'\n",
      "             'Ultimately, the specific offer amount will depend on the extent '\n",
      "             'of the construction flaws, the comparables in the area, and your '\n",
      "             'comfort level with the negotiation process. As your NAR '\n",
      "             'Certified buyer agent with strong negotiation skills, I will '\n",
      "             'work closely with you to determine the best approach and offer '\n",
      "             'amount to maximize our chances of reaching a favorable agreement '\n",
      "             \"with the seller. Let's move forward with this offer and start \"\n",
      "             'the negotiation process to secure the home you desire within '\n",
      "             'your budget.',\n",
      "  'role': 'user'}]\n"
     ]
    }
   ],
   "source": [
    "import pprint\n",
    "\n",
    "pprint.pprint(chat_result.chat_history)"
   ]
  },
  {
   "cell_type": "code",
   "execution_count": 5,
   "metadata": {},
   "outputs": [
    {
     "name": "stdout",
     "output_type": "stream",
     "text": [
      "{'usage_excluding_cached_inference': {'gpt-3.5-turbo-0125': {'completion_tokens': 600,\n",
      "                                                             'cost': 0.001319,\n",
      "                                                             'prompt_tokens': 838,\n",
      "                                                             'total_tokens': 1438},\n",
      "                                      'total_cost': 0.001319},\n",
      " 'usage_including_cached_inference': {'gpt-3.5-turbo-0125': {'completion_tokens': 681,\n",
      "                                                             'cost': 0.0014855,\n",
      "                                                             'prompt_tokens': 928,\n",
      "                                                             'total_tokens': 1609},\n",
      "                                      'total_cost': 0.0014855}}\n"
     ]
    }
   ],
   "source": [
    "pprint.pprint(chat_result.cost)"
   ]
  },
  {
   "cell_type": "code",
   "execution_count": null,
   "metadata": {},
   "outputs": [],
   "source": []
  }
 ],
 "metadata": {
  "kernelspec": {
   "display_name": "pyautogen",
   "language": "python",
   "name": "python3"
  },
  "language_info": {
   "codemirror_mode": {
    "name": "ipython",
    "version": 3
   },
   "file_extension": ".py",
   "mimetype": "text/x-python",
   "name": "python",
   "nbconvert_exporter": "python",
   "pygments_lexer": "ipython3",
   "version": "3.10.14"
  }
 },
 "nbformat": 4,
 "nbformat_minor": 2
}
